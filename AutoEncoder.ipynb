{
 "cells": [
  {
   "cell_type": "code",
   "execution_count": 1,
   "metadata": {},
   "outputs": [],
   "source": [
    "import numpy as np\n",
    "import pandas as pd\n",
    "import torch\n",
    "import torch.nn as nn\n",
    "import torch.nn.parallel\n",
    "import torch.optim as optim\n",
    "import torch.utils.data\n",
    "from torch.autograd import Variable"
   ]
  },
  {
   "cell_type": "code",
   "execution_count": 2,
   "metadata": {},
   "outputs": [],
   "source": [
    "movies = pd.read_csv(\"ml-1m/movies.dat\",sep=\"::\",header=None,engine=\"python\",encoding=\"latin-1\")\n",
    "users = pd.read_csv(\"ml-1m/users.dat\",sep=\"::\",header=None,engine=\"python\",encoding=\"latin-1\")\n",
    "ratings = pd.read_csv(\"ml-1m/ratings.dat\",sep=\"::\",header=None,engine=\"python\",encoding=\"latin-1\")"
   ]
  },
  {
   "cell_type": "code",
   "execution_count": 3,
   "metadata": {},
   "outputs": [],
   "source": [
    "training_set = pd.read_csv(\"ml-100k/u1.base\",delimiter=\"\\t\")\n",
    "test_set = pd.read_csv(\"ml-100k/u1.test\",delimiter=\"\\t\")"
   ]
  },
  {
   "cell_type": "code",
   "execution_count": 4,
   "metadata": {},
   "outputs": [],
   "source": [
    "training_set = np.array(training_set,dtype='int')\n",
    "test_set = np.array(test_set,dtype='int')"
   ]
  },
  {
   "cell_type": "code",
   "execution_count": 5,
   "metadata": {},
   "outputs": [
    {
     "name": "stdout",
     "output_type": "stream",
     "text": [
      "TOTAL NUMBER OF USERS 943\n",
      "TOTAL NUMBER OF MOVIES 1682\n"
     ]
    }
   ],
   "source": [
    "nb_users = int(max(max(training_set[: , 0]) , max(test_set[: ,0])))\n",
    "nb_movies = int(max( max(training_set[: , 1]) , max(test_set[: , 1])))\n",
    "\n",
    "print(\"TOTAL NUMBER OF USERS\",nb_users)\n",
    "print(\"TOTAL NUMBER OF MOVIES\",nb_movies)"
   ]
  },
  {
   "cell_type": "code",
   "execution_count": 6,
   "metadata": {},
   "outputs": [
    {
     "data": {
      "text/plain": [
       "array([[        1,         2,         3, 876893171],\n",
       "       [        1,         3,         4, 878542960],\n",
       "       [        1,         4,         3, 876893119],\n",
       "       ..., \n",
       "       [      943,      1188,         3, 888640250],\n",
       "       [      943,      1228,         3, 888640275],\n",
       "       [      943,      1330,         3, 888692465]])"
      ]
     },
     "execution_count": 6,
     "metadata": {},
     "output_type": "execute_result"
    }
   ],
   "source": [
    "training_set"
   ]
  },
  {
   "cell_type": "code",
   "execution_count": 7,
   "metadata": {},
   "outputs": [],
   "source": [
    "def convert(data):\n",
    "    new_data = []\n",
    "    for id_users in range(1, nb_users + 1):\n",
    "        id_movies = data[:,1][data[:,0] == id_users]\n",
    "        id_ratings = data[:,2][data[:,0] == id_users]\n",
    "        ratings = np.zeros(nb_movies)\n",
    "        ratings[id_movies - 1] = id_ratings\n",
    "        new_data.append(list(ratings))\n",
    "    return new_data"
   ]
  },
  {
   "cell_type": "code",
   "execution_count": 8,
   "metadata": {},
   "outputs": [],
   "source": [
    "training_set_final  = convert(training_set)\n",
    "test_set_final  = convert(test_set)"
   ]
  },
  {
   "cell_type": "code",
   "execution_count": 9,
   "metadata": {},
   "outputs": [],
   "source": [
    "training_set_final_tensor  = torch.FloatTensor(training_set_final)\n",
    "test_set_final_tensor  = torch.FloatTensor(test_set_final)"
   ]
  },
  {
   "cell_type": "code",
   "execution_count": 10,
   "metadata": {},
   "outputs": [
    {
     "data": {
      "text/plain": [
       "tensor([[ 0.,  3.,  4.,  ...,  0.,  0.,  0.]])"
      ]
     },
     "execution_count": 10,
     "metadata": {},
     "output_type": "execute_result"
    }
   ],
   "source": [
    "Variable(training_set_final_tensor[0]).unsqueeze(0)"
   ]
  },
  {
   "cell_type": "code",
   "execution_count": 11,
   "metadata": {},
   "outputs": [],
   "source": [
    "class SAE(nn.Module):\n",
    "    def __init__(self, ):\n",
    "        super(SAE, self).__init__()\n",
    "        self.fc1 = nn.Linear(nb_movies, 20)\n",
    "        self.fc2 = nn.Linear(20, 10)\n",
    "        self.fc3 = nn.Linear(10, 20)\n",
    "        self.fc4 = nn.Linear(20, nb_movies)\n",
    "        self.activation = nn.Sigmoid()\n",
    "    def forward(self, x):\n",
    "        x = self.activation(self.fc1(x))\n",
    "        x = self.activation(self.fc2(x))\n",
    "        x = self.activation(self.fc3(x))\n",
    "        x = self.fc4(x)\n",
    "        return x"
   ]
  },
  {
   "cell_type": "code",
   "execution_count": 12,
   "metadata": {},
   "outputs": [],
   "source": [
    "sae = SAE()"
   ]
  },
  {
   "cell_type": "code",
   "execution_count": 13,
   "metadata": {},
   "outputs": [],
   "source": [
    "critirion = nn.MSELoss()"
   ]
  },
  {
   "cell_type": "code",
   "execution_count": 14,
   "metadata": {},
   "outputs": [],
   "source": [
    "optimizer = optim.RMSprop(sae.parameters() , lr= 0.01 , weight_decay=0.5)"
   ]
  },
  {
   "cell_type": "code",
   "execution_count": 15,
   "metadata": {},
   "outputs": [
    {
     "name": "stderr",
     "output_type": "stream",
     "text": [
      "/anaconda3/lib/python3.6/site-packages/ipykernel_launcher.py:15: UserWarning: invalid index of a 0-dim tensor. This will be an error in PyTorch 0.5. Use tensor.item() to convert a 0-dim tensor to a Python number\n",
      "  from ipykernel import kernelapp as app\n"
     ]
    },
    {
     "name": "stdout",
     "output_type": "stream",
     "text": [
      "epoch: 1 loss: tensor(1.7713)\n",
      "epoch: 2 loss: tensor(1.0966)\n",
      "epoch: 3 loss: tensor(1.0534)\n",
      "epoch: 4 loss: tensor(1.0385)\n",
      "epoch: 5 loss: tensor(1.0310)\n",
      "epoch: 6 loss: tensor(1.0266)\n",
      "epoch: 7 loss: tensor(1.0238)\n",
      "epoch: 8 loss: tensor(1.0219)\n",
      "epoch: 9 loss: tensor(1.0208)\n",
      "epoch: 10 loss: tensor(1.0195)\n",
      "epoch: 11 loss: tensor(1.0189)\n",
      "epoch: 12 loss: tensor(1.0185)\n",
      "epoch: 13 loss: tensor(1.0179)\n",
      "epoch: 14 loss: tensor(1.0176)\n",
      "epoch: 15 loss: tensor(1.0172)\n",
      "epoch: 16 loss: tensor(1.0169)\n",
      "epoch: 17 loss: tensor(1.0169)\n",
      "epoch: 18 loss: tensor(1.0165)\n",
      "epoch: 19 loss: tensor(1.0164)\n",
      "epoch: 20 loss: tensor(1.0161)\n",
      "epoch: 21 loss: tensor(1.0163)\n",
      "epoch: 22 loss: tensor(1.0158)\n",
      "epoch: 23 loss: tensor(1.0159)\n",
      "epoch: 24 loss: tensor(1.0158)\n",
      "epoch: 25 loss: tensor(1.0157)\n",
      "epoch: 26 loss: tensor(1.0154)\n",
      "epoch: 27 loss: tensor(1.0154)\n",
      "epoch: 28 loss: tensor(1.0151)\n",
      "epoch: 29 loss: tensor(1.0125)\n",
      "epoch: 30 loss: tensor(1.0114)\n",
      "epoch: 31 loss: tensor(1.0108)\n",
      "epoch: 32 loss: tensor(1.0085)\n",
      "epoch: 33 loss: tensor(1.0083)\n",
      "epoch: 34 loss: tensor(1.0050)\n",
      "epoch: 35 loss: tensor(1.0032)\n",
      "epoch: 36 loss: tensor(0.9993)\n",
      "epoch: 37 loss: tensor(0.9983)\n",
      "epoch: 38 loss: tensor(0.9951)\n",
      "epoch: 39 loss: tensor(0.9936)\n",
      "epoch: 40 loss: tensor(0.9911)\n",
      "epoch: 41 loss: tensor(0.9918)\n",
      "epoch: 42 loss: tensor(0.9883)\n",
      "epoch: 43 loss: tensor(0.9881)\n",
      "epoch: 44 loss: tensor(0.9844)\n",
      "epoch: 45 loss: tensor(0.9867)\n",
      "epoch: 46 loss: tensor(0.9832)\n",
      "epoch: 47 loss: tensor(0.9841)\n",
      "epoch: 48 loss: tensor(0.9789)\n",
      "epoch: 49 loss: tensor(0.9774)\n",
      "epoch: 50 loss: tensor(0.9759)\n",
      "epoch: 51 loss: tensor(0.9787)\n",
      "epoch: 52 loss: tensor(0.9730)\n",
      "epoch: 53 loss: tensor(0.9709)\n",
      "epoch: 54 loss: tensor(0.9669)\n",
      "epoch: 55 loss: tensor(0.9693)\n",
      "epoch: 56 loss: tensor(0.9667)\n",
      "epoch: 57 loss: tensor(0.9720)\n",
      "epoch: 58 loss: tensor(0.9686)\n",
      "epoch: 59 loss: tensor(0.9704)\n",
      "epoch: 60 loss: tensor(0.9704)\n",
      "epoch: 61 loss: tensor(0.9667)\n",
      "epoch: 62 loss: tensor(0.9622)\n",
      "epoch: 63 loss: tensor(0.9642)\n",
      "epoch: 64 loss: tensor(0.9605)\n",
      "epoch: 65 loss: tensor(0.9583)\n",
      "epoch: 66 loss: tensor(0.9569)\n",
      "epoch: 67 loss: tensor(0.9580)\n",
      "epoch: 68 loss: tensor(0.9563)\n",
      "epoch: 69 loss: tensor(0.9534)\n",
      "epoch: 70 loss: tensor(0.9528)\n",
      "epoch: 71 loss: tensor(0.9527)\n",
      "epoch: 72 loss: tensor(0.9505)\n",
      "epoch: 73 loss: tensor(0.9482)\n",
      "epoch: 74 loss: tensor(0.9488)\n",
      "epoch: 75 loss: tensor(0.9490)\n",
      "epoch: 76 loss: tensor(0.9475)\n",
      "epoch: 77 loss: tensor(0.9461)\n",
      "epoch: 78 loss: tensor(0.9450)\n",
      "epoch: 79 loss: tensor(0.9472)\n",
      "epoch: 80 loss: tensor(0.9456)\n",
      "epoch: 81 loss: tensor(0.9440)\n",
      "epoch: 82 loss: tensor(0.9440)\n",
      "epoch: 83 loss: tensor(0.9454)\n",
      "epoch: 84 loss: tensor(0.9448)\n",
      "epoch: 85 loss: tensor(0.9451)\n",
      "epoch: 86 loss: tensor(0.9419)\n",
      "epoch: 87 loss: tensor(0.9416)\n",
      "epoch: 88 loss: tensor(0.9402)\n",
      "epoch: 89 loss: tensor(0.9408)\n",
      "epoch: 90 loss: tensor(0.9394)\n",
      "epoch: 91 loss: tensor(0.9406)\n",
      "epoch: 92 loss: tensor(0.9383)\n",
      "epoch: 93 loss: tensor(0.9392)\n",
      "epoch: 94 loss: tensor(0.9370)\n",
      "epoch: 95 loss: tensor(0.9381)\n",
      "epoch: 96 loss: tensor(0.9368)\n",
      "epoch: 97 loss: tensor(0.9392)\n",
      "epoch: 98 loss: tensor(0.9355)\n",
      "epoch: 99 loss: tensor(0.9368)\n",
      "epoch: 100 loss: tensor(0.9353)\n",
      "epoch: 101 loss: tensor(0.9359)\n",
      "epoch: 102 loss: tensor(0.9353)\n",
      "epoch: 103 loss: tensor(0.9357)\n",
      "epoch: 104 loss: tensor(0.9338)\n",
      "epoch: 105 loss: tensor(0.9342)\n",
      "epoch: 106 loss: tensor(0.9333)\n",
      "epoch: 107 loss: tensor(0.9327)\n",
      "epoch: 108 loss: tensor(0.9375)\n",
      "epoch: 109 loss: tensor(0.9344)\n",
      "epoch: 110 loss: tensor(0.9324)\n",
      "epoch: 111 loss: tensor(0.9328)\n",
      "epoch: 112 loss: tensor(0.9314)\n",
      "epoch: 113 loss: tensor(0.9323)\n",
      "epoch: 114 loss: tensor(0.9309)\n",
      "epoch: 115 loss: tensor(0.9316)\n",
      "epoch: 116 loss: tensor(0.9304)\n",
      "epoch: 117 loss: tensor(0.9308)\n",
      "epoch: 118 loss: tensor(0.9295)\n",
      "epoch: 119 loss: tensor(0.9300)\n",
      "epoch: 120 loss: tensor(0.9292)\n",
      "epoch: 121 loss: tensor(0.9295)\n",
      "epoch: 122 loss: tensor(0.9286)\n",
      "epoch: 123 loss: tensor(0.9294)\n",
      "epoch: 124 loss: tensor(0.9285)\n",
      "epoch: 125 loss: tensor(0.9286)\n",
      "epoch: 126 loss: tensor(0.9278)\n",
      "epoch: 127 loss: tensor(0.9279)\n",
      "epoch: 128 loss: tensor(0.9272)\n",
      "epoch: 129 loss: tensor(0.9279)\n",
      "epoch: 130 loss: tensor(0.9267)\n",
      "epoch: 131 loss: tensor(0.9268)\n",
      "epoch: 132 loss: tensor(0.9261)\n",
      "epoch: 133 loss: tensor(0.9267)\n",
      "epoch: 134 loss: tensor(0.9254)\n",
      "epoch: 135 loss: tensor(0.9261)\n",
      "epoch: 136 loss: tensor(0.9253)\n",
      "epoch: 137 loss: tensor(0.9253)\n",
      "epoch: 138 loss: tensor(0.9241)\n",
      "epoch: 139 loss: tensor(0.9248)\n",
      "epoch: 140 loss: tensor(0.9238)\n",
      "epoch: 141 loss: tensor(0.9243)\n",
      "epoch: 142 loss: tensor(0.9232)\n",
      "epoch: 143 loss: tensor(0.9242)\n",
      "epoch: 144 loss: tensor(0.9227)\n",
      "epoch: 145 loss: tensor(0.9236)\n",
      "epoch: 146 loss: tensor(0.9225)\n",
      "epoch: 147 loss: tensor(0.9229)\n",
      "epoch: 148 loss: tensor(0.9218)\n",
      "epoch: 149 loss: tensor(0.9225)\n",
      "epoch: 150 loss: tensor(0.9217)\n",
      "epoch: 151 loss: tensor(0.9224)\n",
      "epoch: 152 loss: tensor(0.9215)\n",
      "epoch: 153 loss: tensor(0.9221)\n",
      "epoch: 154 loss: tensor(0.9208)\n",
      "epoch: 155 loss: tensor(0.9218)\n",
      "epoch: 156 loss: tensor(0.9205)\n",
      "epoch: 157 loss: tensor(0.9214)\n",
      "epoch: 158 loss: tensor(0.9200)\n",
      "epoch: 159 loss: tensor(0.9209)\n",
      "epoch: 160 loss: tensor(0.9194)\n",
      "epoch: 161 loss: tensor(0.9203)\n",
      "epoch: 162 loss: tensor(0.9196)\n",
      "epoch: 163 loss: tensor(0.9200)\n",
      "epoch: 164 loss: tensor(0.9190)\n",
      "epoch: 165 loss: tensor(0.9199)\n",
      "epoch: 166 loss: tensor(0.9184)\n",
      "epoch: 167 loss: tensor(0.9201)\n",
      "epoch: 168 loss: tensor(0.9184)\n",
      "epoch: 169 loss: tensor(0.9194)\n",
      "epoch: 170 loss: tensor(0.9181)\n",
      "epoch: 171 loss: tensor(0.9188)\n",
      "epoch: 172 loss: tensor(0.9178)\n",
      "epoch: 173 loss: tensor(0.9188)\n",
      "epoch: 174 loss: tensor(0.9174)\n",
      "epoch: 175 loss: tensor(0.9177)\n",
      "epoch: 176 loss: tensor(0.9168)\n",
      "epoch: 177 loss: tensor(0.9178)\n",
      "epoch: 178 loss: tensor(0.9167)\n",
      "epoch: 179 loss: tensor(0.9175)\n",
      "epoch: 180 loss: tensor(0.9165)\n",
      "epoch: 181 loss: tensor(0.9170)\n",
      "epoch: 182 loss: tensor(0.9163)\n",
      "epoch: 183 loss: tensor(0.9172)\n",
      "epoch: 184 loss: tensor(0.9161)\n",
      "epoch: 185 loss: tensor(0.9168)\n",
      "epoch: 186 loss: tensor(0.9159)\n",
      "epoch: 187 loss: tensor(0.9163)\n",
      "epoch: 188 loss: tensor(0.9156)\n",
      "epoch: 189 loss: tensor(0.9161)\n",
      "epoch: 190 loss: tensor(0.9151)\n",
      "epoch: 191 loss: tensor(0.9157)\n",
      "epoch: 192 loss: tensor(0.9149)\n",
      "epoch: 193 loss: tensor(0.9155)\n",
      "epoch: 194 loss: tensor(0.9148)\n",
      "epoch: 195 loss: tensor(0.9151)\n",
      "epoch: 196 loss: tensor(0.9147)\n",
      "epoch: 197 loss: tensor(0.9149)\n",
      "epoch: 198 loss: tensor(0.9141)\n",
      "epoch: 199 loss: tensor(0.9144)\n",
      "epoch: 200 loss: tensor(0.9139)\n"
     ]
    }
   ],
   "source": [
    "nb_epoch = 200\n",
    "for epoch in range(1 , nb_epoch+1):\n",
    "    train_loss = 0\n",
    "    s = 0\n",
    "    for id_user in range(nb_users):\n",
    "        input = Variable(training_set_final_tensor[id_user]).unsqueeze(0)\n",
    "        target = input.clone()\n",
    "        if(torch.sum(target.data > 0 ) > 0):\n",
    "            output = sae(input)\n",
    "            target.require_grad = False\n",
    "            output[target == 0] = 0\n",
    "            loss = critirion(output,target)\n",
    "            mean_corrector = nb_movies/float(torch.sum(target.data > 0) + 1e-10)\n",
    "            loss.backward()\n",
    "            train_loss += np.sqrt(loss.data[0]*mean_corrector)\n",
    "            s += 1.\n",
    "            optimizer.step()\n",
    "    print('epoch: '+str(epoch)+' loss: '+str(train_loss/s))"
   ]
  },
  {
   "cell_type": "code",
   "execution_count": 35,
   "metadata": {},
   "outputs": [
    {
     "name": "stdout",
     "output_type": "stream",
     "text": [
      "test loss: tensor(0.9490)\n"
     ]
    },
    {
     "name": "stderr",
     "output_type": "stream",
     "text": [
      "/anaconda3/lib/python3.6/site-packages/ipykernel_launcher.py:15: UserWarning: invalid index of a 0-dim tensor. This will be an error in PyTorch 0.5. Use tensor.item() to convert a 0-dim tensor to a Python number\n",
      "  from ipykernel import kernelapp as app\n"
     ]
    }
   ],
   "source": [
    "# Testing the SAE\n",
    "test_loss = 0\n",
    "s = 0.\n",
    "output\n",
    "input\n",
    "for id_user in range(nb_users):\n",
    "    input = Variable(training_set_final_tensor[id_user]).unsqueeze(0)\n",
    "    target = Variable(test_set_final_tensor[id_user]).unsqueeze(0)\n",
    "    if torch.sum(target.data > 0) > 0:\n",
    "        output = sae(input)\n",
    "        target.require_grad = False\n",
    "        output[target == 0] = 0\n",
    "        loss = critirion(output, target)\n",
    "        mean_corrector = nb_movies/float(torch.sum(target.data > 0) + 1e-10)\n",
    "        test_loss += np.sqrt(loss.data[0]*mean_corrector)\n",
    "        s += 1.\n",
    "print('test loss: '+str(test_loss/s))"
   ]
  },
  {
   "cell_type": "code",
   "execution_count": null,
   "metadata": {},
   "outputs": [],
   "source": []
  }
 ],
 "metadata": {
  "kernelspec": {
   "display_name": "Python 3",
   "language": "python",
   "name": "python3"
  },
  "language_info": {
   "codemirror_mode": {
    "name": "ipython",
    "version": 3
   },
   "file_extension": ".py",
   "mimetype": "text/x-python",
   "name": "python",
   "nbconvert_exporter": "python",
   "pygments_lexer": "ipython3",
   "version": "3.6.4"
  }
 },
 "nbformat": 4,
 "nbformat_minor": 2
}
